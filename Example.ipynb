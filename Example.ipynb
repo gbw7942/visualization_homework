{
 "cells": [
  {
   "cell_type": "code",
   "execution_count": null,
   "metadata": {},
   "outputs": [],
   "source": [
    "import pandas as pd\n",
    "import matplotlib.pyplot as plt\n",
    "data_prod = pd.read_csv(\"Production.csv\")\n",
    "data_temp=pd.read_csv(\"Temperature.csv\",usecols = ['年份','平均气温(℃)'],skiprows=range(1,37))\n",
    "print(data_prod)\n",
    "print(data_temp)"
   ]
  },
  {
   "cell_type": "code",
   "execution_count": null,
   "metadata": {},
   "outputs": [],
   "source": [
    "data_temp = data_temp.sort_values(by=\"年份\")\n",
    "data_prod = data_prod.sort_values(by=\"年份\")\n",
    "print(data_temp)\n",
    "print(data_prod)"
   ]
  },
  {
   "cell_type": "code",
   "execution_count": null,
   "metadata": {},
   "outputs": [],
   "source": [
    "data_out=data_prod[data_prod[\"属性\"]==\"产量\"]\n",
    "print(data_out)"
   ]
  },
  {
   "cell_type": "code",
   "execution_count": null,
   "metadata": {},
   "outputs": [],
   "source": [
    "year=list(data_out[\"年份\"])\n",
    "out=list(data_out[\"值\"])\n",
    "print(year)\n",
    "print(out)\n",
    "\n",
    "temp=list(data_temp[\"平均气温(℃)\"])\n",
    "data_avt=[]\n",
    "for i in range(0,22):\n",
    "    if i != 11:\n",
    "        data_avg=temp[i]\n",
    "        data_avt.append(data_avg)\n",
    "print(data_avt)"
   ]
  },
  {
   "cell_type": "markdown",
   "metadata": {},
   "source": [
    "# 数据可视化"
   ]
  },
  {
   "cell_type": "code",
   "execution_count": null,
   "metadata": {},
   "outputs": [],
   "source": [
    "plt.rcParams['font.sans-serif'] = ['SimHei']   #中文字体设置\n",
    "plt.rcParams[\"axes.unicode_minus\"]=False #该语句解决图像中的“-”负号的乱码问题\n",
    "\n",
    "\n",
    "plt.plot(year, out, color=\"green\", label='单产量')\n",
    "plt.legend(loc='upper left')  #图例位置\n",
    "plt.ylim([1300,1700])         #y轴显示范围\n",
    "plt.title(\"四川省粮食单产量与温度变化\")  #图标题\n",
    "plt.ylabel(\"单产量\")             #纵轴标签\n",
    "\n",
    "ax2 = plt.twinx()\n",
    "ax2.bar(year, data_avt, color=\"m\", label='平均气温')\n",
    "ax2.legend(loc='upper left')  #图例位置\n",
    "plt.ylim([10,20])          #y轴显示范围\n",
    "plt.ylabel(\"平均气温(℃)\")       #纵轴标签"
   ]
  }
 ],
 "metadata": {
  "kernelspec": {
   "display_name": "Python 3 (ipykernel)",
   "language": "python",
   "name": "python3"
  },
  "language_info": {
   "codemirror_mode": {
    "name": "ipython",
    "version": 3
   },
   "file_extension": ".py",
   "mimetype": "text/x-python",
   "name": "python",
   "nbconvert_exporter": "python",
   "pygments_lexer": "ipython3",
   "version": "3.10.9"
  }
 },
 "nbformat": 4,
 "nbformat_minor": 2
}
